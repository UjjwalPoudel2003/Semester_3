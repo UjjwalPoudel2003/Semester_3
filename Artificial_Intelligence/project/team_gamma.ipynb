{
  "nbformat": 4,
  "nbformat_minor": 0,
  "metadata": {
    "colab": {
      "provenance": []
    },
    "kernelspec": {
      "name": "python3",
      "display_name": "Python 3"
    },
    "language_info": {
      "name": "python"
    }
  },
  "cells": [
    {
      "cell_type": "markdown",
      "source": [
        "Uploading the local file"
      ],
      "metadata": {
        "id": "R5JX4EkSK94r"
      }
    },
    {
      "cell_type": "code",
      "source": [
        "from google.colab import files\n",
        "uploaded = files.upload()"
      ],
      "metadata": {
        "colab": {
          "base_uri": "https://localhost:8080/",
          "height": 73
        },
        "id": "gMSfWqqALD7e",
        "outputId": "8a1d6c14-13ec-4c3a-dc9a-38f9091bf65a"
      },
      "execution_count": 4,
      "outputs": [
        {
          "output_type": "display_data",
          "data": {
            "text/plain": [
              "<IPython.core.display.HTML object>"
            ],
            "text/html": [
              "\n",
              "     <input type=\"file\" id=\"files-96a5803e-1041-4fdd-8ba5-1da46973df26\" name=\"files[]\" multiple disabled\n",
              "        style=\"border:none\" />\n",
              "     <output id=\"result-96a5803e-1041-4fdd-8ba5-1da46973df26\">\n",
              "      Upload widget is only available when the cell has been executed in the\n",
              "      current browser session. Please rerun this cell to enable.\n",
              "      </output>\n",
              "      <script>// Copyright 2017 Google LLC\n",
              "//\n",
              "// Licensed under the Apache License, Version 2.0 (the \"License\");\n",
              "// you may not use this file except in compliance with the License.\n",
              "// You may obtain a copy of the License at\n",
              "//\n",
              "//      http://www.apache.org/licenses/LICENSE-2.0\n",
              "//\n",
              "// Unless required by applicable law or agreed to in writing, software\n",
              "// distributed under the License is distributed on an \"AS IS\" BASIS,\n",
              "// WITHOUT WARRANTIES OR CONDITIONS OF ANY KIND, either express or implied.\n",
              "// See the License for the specific language governing permissions and\n",
              "// limitations under the License.\n",
              "\n",
              "/**\n",
              " * @fileoverview Helpers for google.colab Python module.\n",
              " */\n",
              "(function(scope) {\n",
              "function span(text, styleAttributes = {}) {\n",
              "  const element = document.createElement('span');\n",
              "  element.textContent = text;\n",
              "  for (const key of Object.keys(styleAttributes)) {\n",
              "    element.style[key] = styleAttributes[key];\n",
              "  }\n",
              "  return element;\n",
              "}\n",
              "\n",
              "// Max number of bytes which will be uploaded at a time.\n",
              "const MAX_PAYLOAD_SIZE = 100 * 1024;\n",
              "\n",
              "function _uploadFiles(inputId, outputId) {\n",
              "  const steps = uploadFilesStep(inputId, outputId);\n",
              "  const outputElement = document.getElementById(outputId);\n",
              "  // Cache steps on the outputElement to make it available for the next call\n",
              "  // to uploadFilesContinue from Python.\n",
              "  outputElement.steps = steps;\n",
              "\n",
              "  return _uploadFilesContinue(outputId);\n",
              "}\n",
              "\n",
              "// This is roughly an async generator (not supported in the browser yet),\n",
              "// where there are multiple asynchronous steps and the Python side is going\n",
              "// to poll for completion of each step.\n",
              "// This uses a Promise to block the python side on completion of each step,\n",
              "// then passes the result of the previous step as the input to the next step.\n",
              "function _uploadFilesContinue(outputId) {\n",
              "  const outputElement = document.getElementById(outputId);\n",
              "  const steps = outputElement.steps;\n",
              "\n",
              "  const next = steps.next(outputElement.lastPromiseValue);\n",
              "  return Promise.resolve(next.value.promise).then((value) => {\n",
              "    // Cache the last promise value to make it available to the next\n",
              "    // step of the generator.\n",
              "    outputElement.lastPromiseValue = value;\n",
              "    return next.value.response;\n",
              "  });\n",
              "}\n",
              "\n",
              "/**\n",
              " * Generator function which is called between each async step of the upload\n",
              " * process.\n",
              " * @param {string} inputId Element ID of the input file picker element.\n",
              " * @param {string} outputId Element ID of the output display.\n",
              " * @return {!Iterable<!Object>} Iterable of next steps.\n",
              " */\n",
              "function* uploadFilesStep(inputId, outputId) {\n",
              "  const inputElement = document.getElementById(inputId);\n",
              "  inputElement.disabled = false;\n",
              "\n",
              "  const outputElement = document.getElementById(outputId);\n",
              "  outputElement.innerHTML = '';\n",
              "\n",
              "  const pickedPromise = new Promise((resolve) => {\n",
              "    inputElement.addEventListener('change', (e) => {\n",
              "      resolve(e.target.files);\n",
              "    });\n",
              "  });\n",
              "\n",
              "  const cancel = document.createElement('button');\n",
              "  inputElement.parentElement.appendChild(cancel);\n",
              "  cancel.textContent = 'Cancel upload';\n",
              "  const cancelPromise = new Promise((resolve) => {\n",
              "    cancel.onclick = () => {\n",
              "      resolve(null);\n",
              "    };\n",
              "  });\n",
              "\n",
              "  // Wait for the user to pick the files.\n",
              "  const files = yield {\n",
              "    promise: Promise.race([pickedPromise, cancelPromise]),\n",
              "    response: {\n",
              "      action: 'starting',\n",
              "    }\n",
              "  };\n",
              "\n",
              "  cancel.remove();\n",
              "\n",
              "  // Disable the input element since further picks are not allowed.\n",
              "  inputElement.disabled = true;\n",
              "\n",
              "  if (!files) {\n",
              "    return {\n",
              "      response: {\n",
              "        action: 'complete',\n",
              "      }\n",
              "    };\n",
              "  }\n",
              "\n",
              "  for (const file of files) {\n",
              "    const li = document.createElement('li');\n",
              "    li.append(span(file.name, {fontWeight: 'bold'}));\n",
              "    li.append(span(\n",
              "        `(${file.type || 'n/a'}) - ${file.size} bytes, ` +\n",
              "        `last modified: ${\n",
              "            file.lastModifiedDate ? file.lastModifiedDate.toLocaleDateString() :\n",
              "                                    'n/a'} - `));\n",
              "    const percent = span('0% done');\n",
              "    li.appendChild(percent);\n",
              "\n",
              "    outputElement.appendChild(li);\n",
              "\n",
              "    const fileDataPromise = new Promise((resolve) => {\n",
              "      const reader = new FileReader();\n",
              "      reader.onload = (e) => {\n",
              "        resolve(e.target.result);\n",
              "      };\n",
              "      reader.readAsArrayBuffer(file);\n",
              "    });\n",
              "    // Wait for the data to be ready.\n",
              "    let fileData = yield {\n",
              "      promise: fileDataPromise,\n",
              "      response: {\n",
              "        action: 'continue',\n",
              "      }\n",
              "    };\n",
              "\n",
              "    // Use a chunked sending to avoid message size limits. See b/62115660.\n",
              "    let position = 0;\n",
              "    do {\n",
              "      const length = Math.min(fileData.byteLength - position, MAX_PAYLOAD_SIZE);\n",
              "      const chunk = new Uint8Array(fileData, position, length);\n",
              "      position += length;\n",
              "\n",
              "      const base64 = btoa(String.fromCharCode.apply(null, chunk));\n",
              "      yield {\n",
              "        response: {\n",
              "          action: 'append',\n",
              "          file: file.name,\n",
              "          data: base64,\n",
              "        },\n",
              "      };\n",
              "\n",
              "      let percentDone = fileData.byteLength === 0 ?\n",
              "          100 :\n",
              "          Math.round((position / fileData.byteLength) * 100);\n",
              "      percent.textContent = `${percentDone}% done`;\n",
              "\n",
              "    } while (position < fileData.byteLength);\n",
              "  }\n",
              "\n",
              "  // All done.\n",
              "  yield {\n",
              "    response: {\n",
              "      action: 'complete',\n",
              "    }\n",
              "  };\n",
              "}\n",
              "\n",
              "scope.google = scope.google || {};\n",
              "scope.google.colab = scope.google.colab || {};\n",
              "scope.google.colab._files = {\n",
              "  _uploadFiles,\n",
              "  _uploadFilesContinue,\n",
              "};\n",
              "})(self);\n",
              "</script> "
            ]
          },
          "metadata": {}
        },
        {
          "output_type": "stream",
          "name": "stdout",
          "text": [
            "Saving Youtube02-KatyPerry.csv to Youtube02-KatyPerry.csv\n"
          ]
        }
      ]
    },
    {
      "cell_type": "markdown",
      "source": [
        "Import Statements"
      ],
      "metadata": {
        "id": "1mnWs_yWFFjF"
      }
    },
    {
      "cell_type": "code",
      "source": [
        "import numpy as np\n",
        "import pandas as pd\n",
        "from sklearn.naive_bayes import MultinomialNB\n",
        "from sklearn.feature_extraction.text import TfidfTransformer\n",
        "from sklearn.feature_extraction.text import CountVectorizer\n",
        "\n",
        "import nltk\n",
        "nltk.download('stopwords')\n",
        "from nltk.corpus import stopwords\n",
        "\n",
        "from nltk.tokenize import word_tokenize\n",
        "from sklearn.model_selection import train_test_split\n",
        "from sklearn.model_selection import cross_val_score\n",
        "from sklearn.metrics import confusion_matrix\n",
        "from nltk.tokenize import sent_tokenize, word_tokenize, WordPunctTokenizer\n",
        "from nltk.tokenize import RegexpTokenizer\n",
        "import re"
      ],
      "metadata": {
        "colab": {
          "base_uri": "https://localhost:8080/"
        },
        "id": "OSxY0cZdFq-G",
        "outputId": "e38420f3-74f8-4be8-90c6-3985d31a5654"
      },
      "execution_count": 11,
      "outputs": [
        {
          "output_type": "stream",
          "name": "stderr",
          "text": [
            "[nltk_data] Downloading package stopwords to /root/nltk_data...\n",
            "[nltk_data]   Unzipping corpora/stopwords.zip.\n"
          ]
        }
      ]
    },
    {
      "cell_type": "markdown",
      "source": [
        "1. Load the data into a pandas data frame."
      ],
      "metadata": {
        "id": "cJSBzab2HGxQ"
      }
    },
    {
      "cell_type": "code",
      "source": [
        "# Using pandas to load the data frame\n",
        "data_df = pd.read_csv(\"/content/Youtube02-KatyPerry.csv\")\n",
        "# Checking the data information\n",
        "data_df.info()"
      ],
      "metadata": {
        "colab": {
          "base_uri": "https://localhost:8080/"
        },
        "id": "SGYYpDtBHJUl",
        "outputId": "f81b824d-2b26-4599-ff3d-d89c61ca11f7"
      },
      "execution_count": 5,
      "outputs": [
        {
          "output_type": "stream",
          "name": "stdout",
          "text": [
            "<class 'pandas.core.frame.DataFrame'>\n",
            "RangeIndex: 350 entries, 0 to 349\n",
            "Data columns (total 5 columns):\n",
            " #   Column      Non-Null Count  Dtype \n",
            "---  ------      --------------  ----- \n",
            " 0   COMMENT_ID  350 non-null    object\n",
            " 1   AUTHOR      350 non-null    object\n",
            " 2   DATE        350 non-null    object\n",
            " 3   CONTENT     350 non-null    object\n",
            " 4   CLASS       350 non-null    int64 \n",
            "dtypes: int64(1), object(4)\n",
            "memory usage: 13.8+ KB\n"
          ]
        }
      ]
    },
    {
      "cell_type": "markdown",
      "source": [
        "2. Carry out some basic data exploration and present your results."
      ],
      "metadata": {
        "id": "--PvkAX5Lpxi"
      }
    },
    {
      "cell_type": "code",
      "source": [
        "# checking if there is null values\n",
        "print(\"\\nNull Values:\")\n",
        "print(data_df.isnull().sum())\n",
        "\n",
        "# printing the unique values\n",
        "print(\"\\nUnique Value for Date:\")\n",
        "print(pd.value_counts(data_df['DATE']))\n",
        "\n",
        "print(\"\\nUnique Value for Author:\")\n",
        "print(pd.value_counts(data_df['AUTHOR']))\n",
        "\n",
        "\"\"\"\n",
        "The two columns for this project are\n",
        "# ID and date are not good to be used for classfication, It does not have much information\n",
        "# Author names are repeated\n",
        "\n",
        "Content and class can be used in this case\n",
        "\"\"\"\n",
        "\n",
        "# Using Content and class columns from the data frame\n",
        "df = data_df[[\"CONTENT\",\"CLASS\"]]\n",
        "\n",
        "print(\"\\nData frame columns:\")\n",
        "df.columns\n",
        "\n",
        "print(\"\\nData frame shape:\")\n",
        "df.shape"
      ],
      "metadata": {
        "colab": {
          "base_uri": "https://localhost:8080/"
        },
        "id": "Xgg_ktakLrbP",
        "outputId": "a2fe7651-9fd5-49da-f98d-e171f46afc7a"
      },
      "execution_count": 8,
      "outputs": [
        {
          "output_type": "stream",
          "name": "stdout",
          "text": [
            "\n",
            "Null Values:\n",
            "COMMENT_ID    0\n",
            "AUTHOR        0\n",
            "DATE          0\n",
            "CONTENT       0\n",
            "CLASS         0\n",
            "dtype: int64\n",
            "\n",
            "Unique Value for Date:\n",
            "2014-07-22T15:27:50    1\n",
            "2014-10-19T16:07:16    1\n",
            "2014-10-21T15:07:11    1\n",
            "2014-10-21T13:50:47    1\n",
            "2014-10-21T04:52:03    1\n",
            "                      ..\n",
            "2014-09-16T03:36:41    1\n",
            "2014-09-15T23:53:03    1\n",
            "2014-09-15T18:27:56    1\n",
            "2014-09-15T17:47:57    1\n",
            "2015-06-05T20:01:23    1\n",
            "Name: DATE, Length: 350, dtype: int64\n",
            "\n",
            "Unique Value for Author:\n",
            "LuckyMusiqLive             4\n",
            "Chris Madzier              2\n",
            "roflcopter2110             2\n",
            "Nathan Waterhouse          2\n",
            "KatyPerry TheQueenOfPop    2\n",
            "                          ..\n",
            "David Sean                 1\n",
            "Thalia Grace               1\n",
            "Veronica Kkk               1\n",
            "jay cruz                   1\n",
            "moaz adnan                 1\n",
            "Name: AUTHOR, Length: 342, dtype: int64\n",
            "\n",
            "Data frame columns:\n",
            "\n",
            "Data frame shape:\n"
          ]
        },
        {
          "output_type": "execute_result",
          "data": {
            "text/plain": [
              "(350, 2)"
            ]
          },
          "metadata": {},
          "execution_count": 8
        }
      ]
    },
    {
      "cell_type": "markdown",
      "source": [
        "3. Pre processing the data\n",
        "a. Lowercasing\n",
        "b. removing stop words"
      ],
      "metadata": {
        "id": "7aBH4p8GOzq8"
      }
    },
    {
      "cell_type": "code",
      "source": [
        "#Lowercasing the values in content\n",
        "df['text'] = df['CONTENT'].str.lower()\n",
        "\n",
        "# Removeing stop words from english dict\n",
        "stop=stopwords.words('english')\n",
        "df['text'] = df['text'].apply(lambda x: ' '.join([word for word in x.split() if\n",
        "word not in (stop)]))\n",
        "\n",
        "# Displaying the data frame\n",
        "print(\"stop word removal: \\n\",df)"
      ],
      "metadata": {
        "id": "iUOZ_P7-RChD"
      },
      "execution_count": null,
      "outputs": []
    },
    {
      "cell_type": "markdown",
      "source": [
        "*   Removing all the words that contains number using lambda function\n",
        "*   Tokenizing the words"
      ],
      "metadata": {
        "id": "LlIddlr1SxSl"
      }
    },
    {
      "cell_type": "code",
      "source": [
        "# Removing all words that contains number\n",
        "df['text_wo_number'] = df['text'].apply(lambda x: re.sub(r'\\w*\\d\\w*', '',\n",
        "x).strip())\n",
        "\n",
        "# Tokenizing using regex\n",
        "tokenizer = RegexpTokenizer(r'\\w+')\n",
        "df.loc[:, 'text_wo_number'] = df['text'].apply(lambda x: re.sub(r'\\w*\\d\\w*', '', x).strip())\n",
        "\n",
        "# Displaying the data frame\n",
        "print(df)"
      ],
      "metadata": {
        "id": "U0kGMSa9U71d"
      },
      "execution_count": null,
      "outputs": []
    },
    {
      "cell_type": "markdown",
      "source": [
        "1.   Stemming\n",
        "2.   Using count vectorizer\n",
        "3.   Extracting the vocabulary"
      ],
      "metadata": {
        "id": "3lQnS99SXEh3"
      }
    },
    {
      "cell_type": "code",
      "source": [
        "# Stemming\n",
        "sno = nltk.stem.SnowballStemmer('english')\n",
        "df['text_stem'] = df['text_tokenized'].apply(lambda x: [sno.stem(word) for word in\n",
        "x ])\n",
        "\n",
        "# Getting rid of single character token\n",
        "df['content_p']=df['text_stem'].apply(lambda x:[word for word in x if\n",
        "len(word)>1] )\n",
        "\n",
        "# Getting rid of other unwanted word\n",
        "To_remove_lst=['__']\n",
        "df['content_p'] = df['content_p'].apply(lambda x:[word for word in x if word not in\n",
        "(To_remove_lst)])\n",
        "df['content_p'] = df['content_p'].apply(lambda x:[word for word in x if word not in\n",
        "(stop)])\n",
        "\n",
        "# Building a count vectorizer and extracting term counts\n",
        "cv = CountVectorizer(analyzer=lambda x: x)\n",
        "counted_values = cv.fit_transform(df['content_p'])\n",
        "tc= counted_values.toarray()\n",
        "\n",
        "# Extracting the vocabulary and displaying it\n",
        "vocabulary = np.array(cv.get_feature_names_out())\n",
        "print(\"\\nVocabulary:\\n\", vocabulary)"
      ],
      "metadata": {
        "colab": {
          "base_uri": "https://localhost:8080/"
        },
        "id": "dqB4mCAqO5Mi",
        "outputId": "26c6b483-6562-4c1e-b16c-949f58583b07"
      },
      "execution_count": 17,
      "outputs": [
        {
          "output_type": "stream",
          "name": "stdout",
          "text": [
            "\n",
            "Vocabulary:\n",
            " ['_self' '_trksid' 'aa' ... 'youtub' 'zimbabw' 'οh']\n"
          ]
        }
      ]
    },
    {
      "cell_type": "markdown",
      "source": [
        "4. Present highlights of the output (initial features) such as the new shape of the data and any other useful information before proceeding."
      ],
      "metadata": {
        "id": "AD-OAnv3Y1dU"
      }
    },
    {
      "cell_type": "code",
      "source": [
        "print(\"\\nShape of the data:\", df.shape)\n",
        "print(\"\\nNumber of unique words:\", len(vocabulary))"
      ],
      "metadata": {
        "colab": {
          "base_uri": "https://localhost:8080/"
        },
        "id": "5Xg0fT7SbYjd",
        "outputId": "96251c36-c73b-4198-afe3-762dfdf9cf2e"
      },
      "execution_count": 18,
      "outputs": [
        {
          "output_type": "stream",
          "name": "stdout",
          "text": [
            "\n",
            "Shape of the data: (350, 7)\n",
            "\n",
            "Number of unique words: 1282\n"
          ]
        }
      ]
    },
    {
      "cell_type": "markdown",
      "source": [
        "5. Downscale the transformed data using tf-idf and again present highlights of the output (final features) such as the new shape of the data and any other useful information before proceeding."
      ],
      "metadata": {
        "id": "hVKthMSochmk"
      }
    },
    {
      "cell_type": "code",
      "source": [
        "\"\"\"\n",
        "#This downscaling is called tf–idf for “Term Frequency times Inverse Document\n",
        "Frequency\n",
        "\"\"\"\n",
        "\n",
        "df['content_p_str'] = df['content_p'].apply(lambda x: ' '.join(x))\n",
        "\n",
        "# Creating the CountVectorizer\n",
        "count_vectorizer = CountVectorizer()\n",
        "counted_values = count_vectorizer.fit_transform(df['content_p_str'])\n",
        "\n",
        "# Creating the tf-idf transformer\n",
        "tfidf = TfidfTransformer()\n",
        "data_tfidf = tfidf.fit_transform(counted_values)\n",
        "print(data_tfidf.shape)\n",
        "\n",
        "# Getting the feature names from the original CountVectorizer\n",
        "feature_names = count_vectorizer.get_feature_names_out()\n",
        "print(feature_names)\n",
        "\n",
        "# Creating a DataFrame with the tf-idf data and feature names\n",
        "df_tfidf = pd.DataFrame(data_tfidf.toarray(), columns=feature_names)\n",
        "print(df_tfidf)"
      ],
      "metadata": {
        "colab": {
          "base_uri": "https://localhost:8080/"
        },
        "id": "ZTUxWNyPcl08",
        "outputId": "43a00e56-bb0f-4c50-f554-56148def1cd4"
      },
      "execution_count": 28,
      "outputs": [
        {
          "output_type": "stream",
          "name": "stdout",
          "text": [
            "(350, 1282)\n",
            "['_self' '_trksid' 'aa' ... 'youtub' 'zimbabw' 'οh']\n",
            "     _self  _trksid   aa  aaa  abl  absolut      abus   ac  access  account  \\\n",
            "0      0.0      0.0  0.0  0.0  0.0      0.0  0.000000  0.0     0.0      0.0   \n",
            "1      0.0      0.0  0.0  0.0  0.0      0.0  0.000000  0.0     0.0      0.0   \n",
            "2      0.0      0.0  0.0  0.0  0.0      0.0  0.168012  0.0     0.0      0.0   \n",
            "3      0.0      0.0  0.0  0.0  0.0      0.0  0.000000  0.0     0.0      0.0   \n",
            "4      0.0      0.0  0.0  0.0  0.0      0.0  0.000000  0.0     0.0      0.0   \n",
            "..     ...      ...  ...  ...  ...      ...       ...  ...     ...      ...   \n",
            "345    0.0      0.0  0.0  0.0  0.0      0.0  0.000000  0.0     0.0      0.0   \n",
            "346    0.0      0.0  0.0  0.0  0.0      0.0  0.000000  0.0     0.0      0.0   \n",
            "347    0.0      0.0  0.0  0.0  0.0      0.0  0.000000  0.0     0.0      0.0   \n",
            "348    0.0      0.0  0.0  0.0  0.0      0.0  0.000000  0.0     0.0      0.0   \n",
            "349    0.0      0.0  0.0  0.0  0.0      0.0  0.000000  0.0     0.0      0.0   \n",
            "\n",
            "     ...  yet   yo  young  youniqu  youniqueproduct  yourelink  youtu  \\\n",
            "0    ...  0.0  0.0    0.0      0.0              0.0        0.0    0.0   \n",
            "1    ...  0.0  0.0    0.0      0.0              0.0        0.0    0.0   \n",
            "2    ...  0.0  0.0    0.0      0.0              0.0        0.0    0.0   \n",
            "3    ...  0.0  0.0    0.0      0.0              0.0        0.0    0.0   \n",
            "4    ...  0.0  0.0    0.0      0.0              0.0        0.0    0.0   \n",
            "..   ...  ...  ...    ...      ...              ...        ...    ...   \n",
            "345  ...  0.0  0.0    0.0      0.0              0.0        0.0    0.0   \n",
            "346  ...  0.0  0.0    0.0      0.0              0.0        0.0    0.0   \n",
            "347  ...  0.0  0.0    0.0      0.0              0.0        0.0    0.0   \n",
            "348  ...  0.0  0.0    0.0      0.0              0.0        0.0    0.0   \n",
            "349  ...  0.0  0.0    0.0      0.0              0.0        0.0    0.0   \n",
            "\n",
            "       youtub  zimbabw   οh  \n",
            "0    0.000000      0.0  0.0  \n",
            "1    0.000000      0.0  0.0  \n",
            "2    0.000000      0.0  0.0  \n",
            "3    0.000000      0.0  0.0  \n",
            "4    0.000000      0.0  0.0  \n",
            "..        ...      ...  ...  \n",
            "345  0.000000      0.0  0.0  \n",
            "346  0.000000      0.0  0.0  \n",
            "347  0.115913      0.0  0.0  \n",
            "348  0.000000      0.0  0.0  \n",
            "349  0.000000      0.0  0.0  \n",
            "\n",
            "[350 rows x 1282 columns]\n"
          ]
        }
      ]
    },
    {
      "cell_type": "markdown",
      "source": [
        "6. Use pandas.sample to shuffle the dataset, set frac =1"
      ],
      "metadata": {
        "id": "HAcNZLO8nOMu"
      }
    },
    {
      "cell_type": "code",
      "source": [
        "tfidf_shuffled = df_tfidf.sample(frac=1)\n",
        "print(tfidf_shuffled)"
      ],
      "metadata": {
        "colab": {
          "base_uri": "https://localhost:8080/"
        },
        "id": "XPhE-5NSnT-M",
        "outputId": "3db4e006-da39-4c20-dbe5-87a23138abe6"
      },
      "execution_count": 30,
      "outputs": [
        {
          "output_type": "stream",
          "name": "stdout",
          "text": [
            "     _self  _trksid       aa  aaa  abl  absolut      abus       ac  access  \\\n",
            "153    0.0      0.0  0.00000  0.0  0.0      0.0  0.000000  0.00000     0.0   \n",
            "162    0.0      0.0  0.00000  0.0  0.0      0.0  0.000000  0.00000     0.0   \n",
            "299    0.0      0.0  0.00000  0.0  0.0      0.0  0.000000  0.00000     0.0   \n",
            "65     0.0      0.0  0.00000  0.0  0.0      0.0  0.000000  0.00000     0.0   \n",
            "134    0.0      0.0  0.00000  0.0  0.0      0.0  0.000000  0.00000     0.0   \n",
            "..     ...      ...      ...  ...  ...      ...       ...      ...     ...   \n",
            "154    0.0      0.0  0.00000  0.0  0.0      0.0  0.000000  0.00000     0.0   \n",
            "2      0.0      0.0  0.00000  0.0  0.0      0.0  0.168012  0.00000     0.0   \n",
            "194    0.0      0.0  0.00000  0.0  0.0      0.0  0.000000  0.00000     0.0   \n",
            "273    0.0      0.0  0.00000  0.0  0.0      0.0  0.000000  0.00000     0.0   \n",
            "33     0.0      0.0  0.45193  0.0  0.0      0.0  0.000000  0.45193     0.0   \n",
            "\n",
            "     account  ...  yet   yo  young  youniqu  youniqueproduct  yourelink  \\\n",
            "153      0.0  ...  0.0  0.0    0.0      0.0              0.0        0.0   \n",
            "162      0.0  ...  0.0  0.0    0.0      0.0              0.0        0.0   \n",
            "299      0.0  ...  0.0  0.0    0.0      0.0              0.0        0.0   \n",
            "65       0.0  ...  0.0  0.0    0.0      0.0              0.0        0.0   \n",
            "134      0.0  ...  0.0  0.0    0.0      0.0              0.0        0.0   \n",
            "..       ...  ...  ...  ...    ...      ...              ...        ...   \n",
            "154      0.0  ...  0.0  0.0    0.0      0.0              0.0        0.0   \n",
            "2        0.0  ...  0.0  0.0    0.0      0.0              0.0        0.0   \n",
            "194      0.0  ...  0.0  0.0    0.0      0.0              0.0        0.0   \n",
            "273      0.0  ...  0.0  0.0    0.0      0.0              0.0        0.0   \n",
            "33       0.0  ...  0.0  0.0    0.0      0.0              0.0        0.0   \n",
            "\n",
            "     youtu  youtub  zimbabw   οh  \n",
            "153    0.0     0.0      0.0  0.0  \n",
            "162    0.0     0.0      0.0  0.0  \n",
            "299    0.0     0.0      0.0  0.0  \n",
            "65     0.0     0.0      0.0  0.0  \n",
            "134    0.0     0.0      0.0  0.0  \n",
            "..     ...     ...      ...  ...  \n",
            "154    0.0     0.0      0.0  0.0  \n",
            "2      0.0     0.0      0.0  0.0  \n",
            "194    0.0     0.0      0.0  0.0  \n",
            "273    0.0     0.0      0.0  0.0  \n",
            "33     0.0     0.0      0.0  0.0  \n",
            "\n",
            "[350 rows x 1282 columns]\n"
          ]
        }
      ]
    },
    {
      "cell_type": "markdown",
      "source": [
        "7. Using pandas split your dataset into 75% for training and 25% for testing, make sure to separate the class from the feature(s). (Do not use test_train_ split)"
      ],
      "metadata": {
        "id": "fdXw4alvnhXZ"
      }
    },
    {
      "cell_type": "code",
      "source": [
        "split=int(tfidf_shuffled.shape[0]*0.75)\n",
        "\n",
        "x_train, x_test = tfidf_shuffled.head(split), tfidf_shuffled.tail(tfidf_shuffled.shape[0]-split)\n",
        "\n",
        "y_train, y_test = df[\"CLASS\"].head(split), df[\"CLASS\"].tail(tfidf_shuffled.shape[0]-split)"
      ],
      "metadata": {
        "id": "NqGntj5dnlQY"
      },
      "execution_count": 33,
      "outputs": []
    },
    {
      "cell_type": "markdown",
      "source": [
        "8. Fit the training data into a Naive Bayes classifier."
      ],
      "metadata": {
        "id": "zZ4_T_5IoJZn"
      }
    },
    {
      "cell_type": "code",
      "source": [
        "# Creating Naive Bayes classifier\n",
        "classifier = MultinomialNB()\n",
        "\n",
        "# Training the classifier\n",
        "classifier.fit(x_train, y_train)"
      ],
      "metadata": {
        "id": "mnQvr3PWoNHB"
      },
      "execution_count": null,
      "outputs": []
    },
    {
      "cell_type": "markdown",
      "source": [
        "9. Cross validate the model on the training data using 5-fold and print the mean results of model accuracy."
      ],
      "metadata": {
        "id": "j3zsAHkIoadp"
      }
    },
    {
      "cell_type": "code",
      "source": [
        "num_folds = 5\n",
        "accuracy_values = cross_val_score(classifier, x_train, y_train, scoring='accuracy',\n",
        "cv=num_folds)\n",
        "print(\"Accuracy: \" + str(round(100*accuracy_values.mean(), 2)) + \"%\")"
      ],
      "metadata": {
        "colab": {
          "base_uri": "https://localhost:8080/"
        },
        "id": "15kYl2hhop3w",
        "outputId": "bbc57769-8c2a-48f5-ce4a-0190b9f2e180"
      },
      "execution_count": 37,
      "outputs": [
        {
          "output_type": "stream",
          "name": "stdout",
          "text": [
            "Accuracy: 46.6%\n"
          ]
        }
      ]
    }
  ]
}